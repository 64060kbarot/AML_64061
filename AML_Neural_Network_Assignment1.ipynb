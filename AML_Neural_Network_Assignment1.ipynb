{
  "nbformat": 4,
  "nbformat_minor": 0,
  "metadata": {
    "colab": {
      "provenance": [],
      "gpuType": "T4",
      "include_colab_link": true
    },
    "kernelspec": {
      "name": "python3",
      "display_name": "Python 3"
    },
    "language_info": {
      "name": "python"
    },
    "accelerator": "GPU"
  },
  "cells": [
    {
      "cell_type": "markdown",
      "metadata": {
        "id": "view-in-github",
        "colab_type": "text"
      },
      "source": [
        "<a href=\"https://colab.research.google.com/github/64060kbarot/AML_64061/blob/main/AML_Neural_Network_Assignment1.ipynb\" target=\"_parent\"><img src=\"https://colab.research.google.com/assets/colab-badge.svg\" alt=\"Open In Colab\"/></a>"
      ]
    },
    {
      "cell_type": "markdown",
      "source": [
        "#*Assignment 1: Neural Network*\n",
        "For the IMDB example that we discussed in class, do the following:\n",
        "1. You used two hidden layers. Try using one or three hidden layers and see how doing so\n",
        "affects validation and test accuracy.\n",
        "2. Try using layers with more hidden units or fewer hidden units: 32 units, 64 units, and so\n",
        "on.\n",
        "3. Try using the mse loss function instead of binary_crossentropy.\n",
        "4. Try using the tanh activation (an activation that was popular in the early days of neural\n",
        "networks) instead of relu.\n",
        "5. Use any technique we studied in class, and these include regularization, dropout, etc., to\n",
        "get your model to perform better on validation."
      ],
      "metadata": {
        "id": "UoFaijvVCy4a"
      }
    },
    {
      "cell_type": "markdown",
      "source": [
        "*Import IMDB data set from the library tensorflow.keras.dataset*"
      ],
      "metadata": {
        "id": "O8U6L0mqC_Sx"
      }
    },
    {
      "cell_type": "code",
      "source": [
        "from tensorflow.keras.datasets import imdb\n",
        "import numpy as np\n",
        "from tensorflow import keras\n",
        "from tensorflow.keras import layers\n",
        "import matplotlib.pyplot as plt\n",
        "import keras\n",
        "from keras import layers\n",
        "\n"
      ],
      "metadata": {
        "id": "JtEPDpXLfITe"
      },
      "execution_count": 1,
      "outputs": []
    },
    {
      "cell_type": "code",
      "source": [
        "from tensorflow.keras.datasets import imdb\n",
        "(train_data, train_labels), (test_data, test_labels) = imdb.load_data(\n",
        "    num_words=10000)"
      ],
      "metadata": {
        "id": "hGOXnKtnCvu4"
      },
      "execution_count": 2,
      "outputs": []
    },
    {
      "cell_type": "code",
      "source": [
        "train_data[0]\n",
        "train_labels[0]\n",
        "max([max(sequence) for sequence in train_data])"
      ],
      "metadata": {
        "id": "FeTHe_fCsCaN",
        "colab": {
          "base_uri": "https://localhost:8080/"
        },
        "outputId": "64c10d79-5310-4d5b-85dc-ac062aaeba9b"
      },
      "execution_count": 3,
      "outputs": [
        {
          "output_type": "execute_result",
          "data": {
            "text/plain": [
              "9999"
            ]
          },
          "metadata": {},
          "execution_count": 3
        }
      ]
    },
    {
      "cell_type": "code",
      "source": [
        "#Decoding Reviews back to text\n",
        "word_index = imdb.get_word_index()\n",
        "reverse_word_index = dict(\n",
        "    [(value, key) for (key, value) in word_index.items()])\n",
        "decoded_review = \" \".join(\n",
        "    [reverse_word_index.get(i - 3, \"?\") for i in train_data[0]])"
      ],
      "metadata": {
        "id": "Qq-QXcc1sS4y"
      },
      "execution_count": 4,
      "outputs": []
    },
    {
      "cell_type": "code",
      "source": [
        "import numpy as np\n",
        "def vectorize_sequences(sequences, dimension=10000):\n",
        "    results = np.zeros((len(sequences), dimension))\n",
        "    for i, sequence in enumerate(sequences):\n",
        "        for j in sequence:\n",
        "            results[i, j] = 1.\n",
        "    return results"
      ],
      "metadata": {
        "id": "qyWaLaBKsXOE"
      },
      "execution_count": 5,
      "outputs": []
    },
    {
      "cell_type": "code",
      "source": [
        "#Vectorised Train & Test data\n",
        "x_train = vectorize_sequences(train_data)\n",
        "x_test = vectorize_sequences(test_data)\n",
        "y_train = np.asarray(train_labels).astype(\"float32\")\n",
        "y_test = np.asarray(test_labels).astype(\"float32\")"
      ],
      "metadata": {
        "id": "0b_7i8qEsgLH"
      },
      "execution_count": 6,
      "outputs": []
    },
    {
      "cell_type": "code",
      "source": [
        "#Building the Model\n",
        "from tensorflow import keras\n",
        "from tensorflow.keras import layers\n",
        "\n",
        "model = keras.Sequential([\n",
        "    layers.Dense(16, activation=\"relu\"),\n",
        "    layers.Dense(16, activation=\"relu\"),\n",
        "    layers.Dense(1, activation=\"sigmoid\")\n",
        "])"
      ],
      "metadata": {
        "id": "pucUsqAQsg76"
      },
      "execution_count": 7,
      "outputs": []
    },
    {
      "cell_type": "code",
      "source": [
        "model.compile(optimizer=\"rmsprop\",\n",
        "              loss=\"binary_crossentropy\",\n",
        "              metrics=[\"accuracy\"])"
      ],
      "metadata": {
        "id": "1JRbx84jskvx"
      },
      "execution_count": 8,
      "outputs": []
    },
    {
      "cell_type": "code",
      "source": [
        "#Validating your approach : Setting aside a validation set\n",
        "x_val = x_train[:10000]\n",
        "partial_x_train = x_train[10000:]\n",
        "y_val = y_train[:10000]\n",
        "partial_y_train = y_train[10000:]"
      ],
      "metadata": {
        "id": "m_6tjEaWsoU_"
      },
      "execution_count": 9,
      "outputs": []
    },
    {
      "cell_type": "code",
      "source": [
        "#Training the model with batch size 512 and 20 epochs\n",
        "history = model.fit(partial_x_train,\n",
        "                    partial_y_train,\n",
        "                    epochs=20,\n",
        "                    batch_size=512,\n",
        "                    validation_data=(x_val, y_val))\n",
        "\n",
        "history_dict = history.history\n",
        "history_dict.keys()"
      ],
      "metadata": {
        "id": "U9ABJFbAsrrr",
        "colab": {
          "base_uri": "https://localhost:8080/"
        },
        "outputId": "3daccb6a-46ec-43ee-d598-0e737e6480d4"
      },
      "execution_count": 10,
      "outputs": [
        {
          "output_type": "stream",
          "name": "stdout",
          "text": [
            "Epoch 1/20\n",
            "30/30 [==============================] - 5s 69ms/step - loss: 0.5804 - accuracy: 0.7388 - val_loss: 0.4665 - val_accuracy: 0.8605\n",
            "Epoch 2/20\n",
            "30/30 [==============================] - 1s 23ms/step - loss: 0.3795 - accuracy: 0.8855 - val_loss: 0.3624 - val_accuracy: 0.8546\n",
            "Epoch 3/20\n",
            "30/30 [==============================] - 1s 26ms/step - loss: 0.2716 - accuracy: 0.9128 - val_loss: 0.2990 - val_accuracy: 0.8858\n",
            "Epoch 4/20\n",
            "30/30 [==============================] - 1s 24ms/step - loss: 0.2134 - accuracy: 0.9311 - val_loss: 0.2920 - val_accuracy: 0.8815\n",
            "Epoch 5/20\n",
            "30/30 [==============================] - 1s 25ms/step - loss: 0.1758 - accuracy: 0.9431 - val_loss: 0.2773 - val_accuracy: 0.8879\n",
            "Epoch 6/20\n",
            "30/30 [==============================] - 1s 23ms/step - loss: 0.1504 - accuracy: 0.9510 - val_loss: 0.3054 - val_accuracy: 0.8811\n",
            "Epoch 7/20\n",
            "30/30 [==============================] - 1s 22ms/step - loss: 0.1265 - accuracy: 0.9615 - val_loss: 0.3018 - val_accuracy: 0.8838\n",
            "Epoch 8/20\n",
            "30/30 [==============================] - 1s 22ms/step - loss: 0.1096 - accuracy: 0.9669 - val_loss: 0.3057 - val_accuracy: 0.8807\n",
            "Epoch 9/20\n",
            "30/30 [==============================] - 1s 23ms/step - loss: 0.0941 - accuracy: 0.9731 - val_loss: 0.3485 - val_accuracy: 0.8704\n",
            "Epoch 10/20\n",
            "30/30 [==============================] - 1s 24ms/step - loss: 0.0804 - accuracy: 0.9790 - val_loss: 0.3835 - val_accuracy: 0.8665\n",
            "Epoch 11/20\n",
            "30/30 [==============================] - 1s 40ms/step - loss: 0.0688 - accuracy: 0.9819 - val_loss: 0.3572 - val_accuracy: 0.8810\n",
            "Epoch 12/20\n",
            "30/30 [==============================] - 1s 30ms/step - loss: 0.0590 - accuracy: 0.9856 - val_loss: 0.3710 - val_accuracy: 0.8790\n",
            "Epoch 13/20\n",
            "30/30 [==============================] - 1s 29ms/step - loss: 0.0507 - accuracy: 0.9887 - val_loss: 0.3890 - val_accuracy: 0.8772\n",
            "Epoch 14/20\n",
            "30/30 [==============================] - 1s 23ms/step - loss: 0.0435 - accuracy: 0.9907 - val_loss: 0.4118 - val_accuracy: 0.8787\n",
            "Epoch 15/20\n",
            "30/30 [==============================] - 1s 23ms/step - loss: 0.0339 - accuracy: 0.9935 - val_loss: 0.4434 - val_accuracy: 0.8774\n",
            "Epoch 16/20\n",
            "30/30 [==============================] - 1s 22ms/step - loss: 0.0288 - accuracy: 0.9952 - val_loss: 0.4592 - val_accuracy: 0.8700\n",
            "Epoch 17/20\n",
            "30/30 [==============================] - 1s 25ms/step - loss: 0.0213 - accuracy: 0.9971 - val_loss: 0.5546 - val_accuracy: 0.8546\n",
            "Epoch 18/20\n",
            "30/30 [==============================] - 1s 23ms/step - loss: 0.0174 - accuracy: 0.9981 - val_loss: 0.5079 - val_accuracy: 0.8750\n",
            "Epoch 19/20\n",
            "30/30 [==============================] - 1s 22ms/step - loss: 0.0171 - accuracy: 0.9981 - val_loss: 0.5304 - val_accuracy: 0.8729\n",
            "Epoch 20/20\n",
            "30/30 [==============================] - 1s 24ms/step - loss: 0.0151 - accuracy: 0.9983 - val_loss: 0.5503 - val_accuracy: 0.8715\n"
          ]
        },
        {
          "output_type": "execute_result",
          "data": {
            "text/plain": [
              "dict_keys(['loss', 'accuracy', 'val_loss', 'val_accuracy'])"
            ]
          },
          "metadata": {},
          "execution_count": 10
        }
      ]
    },
    {
      "cell_type": "markdown",
      "source": [
        "*Training and Validation loss graph*\n"
      ],
      "metadata": {
        "id": "MltDxHmuEsf9"
      }
    },
    {
      "cell_type": "code",
      "source": [
        "import matplotlib.pyplot as plt\n",
        "history_dict = history.history\n",
        "loss_values = history_dict[\"loss\"]\n",
        "val_loss_values = history_dict[\"val_loss\"]\n",
        "epochs = range(1, len(loss_values) + 1)\n",
        "plt.plot(epochs, loss_values, \"r-\", label=\"Training loss\")  # Red solid line\n",
        "plt.plot(epochs, val_loss_values, \"g-\", label=\"Validation loss\") # Green solid line\n",
        "plt.title(\"Training and validation loss\")\n",
        "plt.xlabel(\"Epochs\")\n",
        "plt.ylabel(\"Loss\")\n",
        "plt.legend()\n",
        "plt.show()"
      ],
      "metadata": {
        "id": "gDTBgSzRsyod",
        "colab": {
          "base_uri": "https://localhost:8080/",
          "height": 472
        },
        "outputId": "b5cb6eb6-142a-45aa-d1be-01d39dc255b9"
      },
      "execution_count": 11,
      "outputs": [
        {
          "output_type": "display_data",
          "data": {
            "text/plain": [
              "<Figure size 640x480 with 1 Axes>"
            ],
            "image/png": "[encoded data removed]"
          },
          "metadata": {}
        }
      ]
    },
    {
      "cell_type": "markdown",
      "source": [
        "*Training and Validation Accuracy*"
      ],
      "metadata": {
        "id": "fo07uq1tE1eu"
      }
    },
    {
      "cell_type": "code",
      "source": [
        "plt.clf()\n",
        "acc = history_dict[\"accuracy\"]\n",
        "val_acc = history_dict[\"val_accuracy\"]\n",
        "plt.plot(epochs, acc, \"r-\", label=\"Training accuracy\")\n",
        "plt.plot(epochs, val_acc, \"g-\", label=\"Validation accuracy\")\n",
        "plt.title(\"Training and validation accuracy\")\n",
        "plt.xlabel(\"Epochs\")\n",
        "plt.ylabel(\"Accuracy\")\n",
        "plt.legend()\n",
        "plt.show()"
      ],
      "metadata": {
        "id": "eSKYP3IEs1oT",
        "colab": {
          "base_uri": "https://localhost:8080/",
          "height": 472
        },
        "outputId": "db3841d8-a392-435a-d161-2e3ba420c87b"
      },
      "execution_count": 12,
      "outputs": [
        {
          "output_type": "display_data",
          "data": {
            "text/plain": [
              "<Figure size 640x480 with 1 Axes>"
            ],
            "image/png": "[encoded data removed]"
          },
          "metadata": {}
        }
      ]
    },
    {
      "cell_type": "markdown",
      "source": [
        "*Building two different model : Model_10epochs and Model_30epochs*"
      ],
      "metadata": {
        "id": "9ZBpiwASE8HV"
      }
    },
    {
      "cell_type": "code",
      "source": [
        "model = keras.Sequential([\n",
        "    layers.Dense(16, activation=\"relu\"),\n",
        "    layers.Dense(16, activation=\"relu\"),\n",
        "    layers.Dense(1, activation=\"sigmoid\")\n",
        "])\n",
        "model.compile(optimizer=\"rmsprop\",\n",
        "              loss=\"binary_crossentropy\",\n",
        "              metrics=[\"accuracy\"])\n",
        "model.fit(x_train, y_train, epochs=10, batch_size=512)\n",
        "results = model.evaluate(x_test, y_test)"
      ],
      "metadata": {
        "id": "vabXQFErs4dw",
        "colab": {
          "base_uri": "https://localhost:8080/"
        },
        "outputId": "7568a6f5-160d-46a1-c0cc-2f0ebf989fd4"
      },
      "execution_count": 13,
      "outputs": [
        {
          "output_type": "stream",
          "name": "stdout",
          "text": [
            "Epoch 1/10\n",
            "49/49 [==============================] - 1s 14ms/step - loss: 0.4571 - accuracy: 0.8093\n",
            "Epoch 2/10\n",
            "49/49 [==============================] - 1s 21ms/step - loss: 0.2662 - accuracy: 0.9048\n",
            "Epoch 3/10\n",
            "49/49 [==============================] - 1s 19ms/step - loss: 0.2109 - accuracy: 0.9238\n",
            "Epoch 4/10\n",
            "49/49 [==============================] - 1s 19ms/step - loss: 0.1758 - accuracy: 0.9380\n",
            "Epoch 5/10\n",
            "49/49 [==============================] - 1s 18ms/step - loss: 0.1569 - accuracy: 0.9445\n",
            "Epoch 6/10\n",
            "49/49 [==============================] - 1s 14ms/step - loss: 0.1390 - accuracy: 0.9518\n",
            "Epoch 7/10\n",
            "49/49 [==============================] - 1s 13ms/step - loss: 0.1201 - accuracy: 0.9596\n",
            "Epoch 8/10\n",
            "49/49 [==============================] - 1s 14ms/step - loss: 0.1084 - accuracy: 0.9637\n",
            "Epoch 9/10\n",
            "49/49 [==============================] - 1s 14ms/step - loss: 0.0979 - accuracy: 0.9679\n",
            "Epoch 10/10\n",
            "49/49 [==============================] - 1s 13ms/step - loss: 0.0846 - accuracy: 0.9729\n",
            "782/782 [==============================] - 2s 3ms/step - loss: 0.4042 - accuracy: 0.8683\n"
          ]
        }
      ]
    },
    {
      "cell_type": "code",
      "source": [
        "results"
      ],
      "metadata": {
        "id": "mITvIqHUs-i0",
        "colab": {
          "base_uri": "https://localhost:8080/"
        },
        "outputId": "295a33bc-f9be-4d58-b681-5c5ad53c790f"
      },
      "execution_count": 14,
      "outputs": [
        {
          "output_type": "execute_result",
          "data": {
            "text/plain": [
              "[0.4042205512523651, 0.8682799935340881]"
            ]
          },
          "metadata": {},
          "execution_count": 14
        }
      ]
    },
    {
      "cell_type": "markdown",
      "source": [
        "####Using a train model to genereate prediction on new data"
      ],
      "metadata": {
        "id": "zVgYMxUYFFqG"
      }
    },
    {
      "cell_type": "code",
      "source": [
        "model.predict(x_test)"
      ],
      "metadata": {
        "id": "HQXQE9wYtSVy",
        "colab": {
          "base_uri": "https://localhost:8080/"
        },
        "outputId": "66d03d58-b5ca-441f-ac54-709695771507"
      },
      "execution_count": 15,
      "outputs": [
        {
          "output_type": "stream",
          "name": "stdout",
          "text": [
            "782/782 [==============================] - 2s 2ms/step\n"
          ]
        },
        {
          "output_type": "execute_result",
          "data": {
            "text/plain": [
              "array([[0.04860145],\n",
              "       [0.99999917],\n",
              "       [0.27635467],\n",
              "       ...,\n",
              "       [0.11658749],\n",
              "       [0.02983043],\n",
              "       [0.72230554]], dtype=float32)"
            ]
          },
          "metadata": {},
          "execution_count": 15
        }
      ]
    },
    {
      "cell_type": "code",
      "source": [
        "# Install Keras\n",
        "#!pip install keras\n",
        "\n",
        "# Import Keras\n",
        "import keras\n",
        "from keras import layers\n",
        "\n",
        "model_2 = keras.Sequential([\n",
        "    layers.Dense(16, activation=\"relu\"),\n",
        "    layers.Dense(16, activation=\"relu\"),\n",
        "    layers.Dense(1, activation=\"sigmoid\")\n",
        "])\n",
        "model_2.compile(optimizer=\"rmsprop\",\n",
        "              loss=\"binary_crossentropy\",\n",
        "              metrics=[\"accuracy\"])\n",
        "model_2.fit(x_train, y_train, epochs=30, batch_size=512)\n",
        "results = model_2.evaluate(x_test, y_test)"
      ],
      "metadata": {
        "id": "o6ooYEfjtU0I"
      },
      "execution_count": null,
      "outputs": []
    },
    {
      "cell_type": "code",
      "source": [
        "results"
      ],
      "metadata": {
        "id": "iwwkf4RttYs5"
      },
      "execution_count": null,
      "outputs": []
    },
    {
      "cell_type": "markdown",
      "source": [
        "# ***1.You used two hidden layers. Try using one or three hidden layers and see how doing so affects validation and test accuracy.***"
      ],
      "metadata": {
        "id": "6bBkkYyBFS5q"
      }
    },
    {
      "cell_type": "markdown",
      "source": [
        "*Model_3layers*"
      ],
      "metadata": {
        "id": "LH3upYZEF1iG"
      }
    },
    {
      "cell_type": "code",
      "source": [
        "model_11 = keras.Sequential([\n",
        "    layers.Dense(16, activation=\"relu\"),\n",
        "    layers.Dense(16, activation=\"relu\"),\n",
        "    layers.Dense(16, activation=\"relu\"),\n",
        "    layers.Dense(1, activation=\"sigmoid\")\n",
        "])\n",
        "model_11.compile(optimizer=\"rmsprop\",\n",
        "              loss=\"binary_crossentropy\",\n",
        "              metrics=[\"accuracy\"])\n",
        "history3 = model_11.fit(partial_x_train,\n",
        "                    partial_y_train,\n",
        "                    epochs=20,\n",
        "                    batch_size=512,\n",
        "                    validation_data=(x_val, y_val))\n",
        "history_dict3 = history3.history\n",
        "history_dict3.keys()"
      ],
      "metadata": {
        "id": "ghIk0ciKta7D"
      },
      "execution_count": null,
      "outputs": []
    },
    {
      "cell_type": "code",
      "source": [
        "loss_values = history_dict3[\"loss\"]\n",
        "val_loss_values = history_dict3[\"val_loss\"]\n",
        "epochs = range(1, len(loss_values) + 1)\n",
        "plt.plot(epochs, loss_values, \"r-\", label=\"Training loss\")  # Red solid line\n",
        "plt.plot(epochs, val_loss_values, \"g-\", label=\"Validation loss\") # Green solid line\n",
        "plt.title(\"Training and validation loss\")\n",
        "plt.xlabel(\"Epochs\")\n",
        "plt.ylabel(\"Loss\")\n",
        "plt.legend()\n",
        "plt.show()"
      ],
      "metadata": {
        "id": "0uUqMjDrtdXl"
      },
      "execution_count": null,
      "outputs": []
    },
    {
      "cell_type": "code",
      "source": [
        "acc = history_dict3[\"accuracy\"]\n",
        "val_acc = history_dict3[\"val_accuracy\"]\n",
        "plt.plot(epochs, acc, \"r-\", label=\"Training accuracy\")\n",
        "plt.plot(epochs, val_acc, \"g-\", label=\"Validation accuracy\")\n",
        "plt.title(\"Training and validation accuracy\")\n",
        "plt.xlabel(\"Epochs\")\n",
        "plt.ylabel(\"Accuracy\")\n",
        "plt.legend()\n",
        "plt.show()"
      ],
      "metadata": {
        "id": "pqiGG2D0tghH"
      },
      "execution_count": null,
      "outputs": []
    },
    {
      "cell_type": "code",
      "source": [
        "model_11.fit(x_train, y_train, epochs=10, batch_size=512)\n",
        "results_M11 = model.evaluate(x_test, y_test)\n",
        "results_M11"
      ],
      "metadata": {
        "id": "hY4j0C17tioW"
      },
      "execution_count": null,
      "outputs": []
    },
    {
      "cell_type": "markdown",
      "source": [
        "*Model_1layers*"
      ],
      "metadata": {
        "id": "N_AE0hhuGrTG"
      }
    },
    {
      "cell_type": "code",
      "source": [
        "model_12 = keras.Sequential([\n",
        "    layers.Dense(16, activation=\"relu\"),\n",
        "    layers.Dense(1, activation=\"sigmoid\")\n",
        "])\n",
        "model_12.compile(optimizer=\"rmsprop\",\n",
        "              loss=\"binary_crossentropy\",\n",
        "              metrics=[\"accuracy\"])\n",
        "history4 = model_12.fit(partial_x_train,\n",
        "                    partial_y_train,\n",
        "                    epochs=20,\n",
        "                    batch_size=512,\n",
        "                    validation_data=(x_val, y_val))\n",
        "history_dict4 = history4.history\n",
        "history_dict4.keys()"
      ],
      "metadata": {
        "id": "0m_3HiDgtlCe"
      },
      "execution_count": null,
      "outputs": []
    },
    {
      "cell_type": "code",
      "source": [
        "loss_values = history_dict4[\"loss\"]\n",
        "val_loss_values = history_dict4[\"val_loss\"]\n",
        "epochs = range(1, len(loss_values) + 1)\n",
        "plt.plot(epochs, loss_values, \"r-\", label=\"Training loss\")  # Red solid line\n",
        "plt.plot(epochs, val_loss_values, \"g-\", label=\"Validation loss\") # Green solid line\n",
        "plt.title(\"Training and validation loss\")\n",
        "plt.xlabel(\"Epochs\")\n",
        "plt.ylabel(\"Loss\")\n",
        "plt.legend()\n",
        "plt.show()"
      ],
      "metadata": {
        "id": "BDvWQznEtm6o"
      },
      "execution_count": null,
      "outputs": []
    },
    {
      "cell_type": "code",
      "source": [
        "acc = history_dict4[\"accuracy\"]\n",
        "val_acc = history_dict4[\"val_accuracy\"]\n",
        "plt.plot(epochs, acc, \"r-\", label=\"Training accuracy\")\n",
        "plt.plot(epochs, val_acc, \"g-\", label=\"Validation accuracy\")\n",
        "plt.title(\"Training and validation accuracy\")\n",
        "plt.xlabel(\"Epochs\")\n",
        "plt.ylabel(\"Accuracy\")\n",
        "plt.legend()\n",
        "plt.show()"
      ],
      "metadata": {
        "id": "WPOYGWDYtpI4"
      },
      "execution_count": null,
      "outputs": []
    },
    {
      "cell_type": "code",
      "source": [
        "model_12.fit(x_train, y_train, epochs=10, batch_size=512)\n",
        "results_M12 = model.evaluate(x_test, y_test)\n",
        "results_M12"
      ],
      "metadata": {
        "id": "BhEbrvMktrAz"
      },
      "execution_count": null,
      "outputs": []
    },
    {
      "cell_type": "markdown",
      "source": [
        "# ***2.Try using layers with more hidden units or fewer hidden units: 32 units, 64 units, and so on.***"
      ],
      "metadata": {
        "id": "AKRvbw6JHKAa"
      }
    },
    {
      "cell_type": "markdown",
      "source": [
        "*Model_32Units*"
      ],
      "metadata": {
        "id": "S3qk-eLkHQpK"
      }
    },
    {
      "cell_type": "code",
      "source": [
        "model_21 = keras.Sequential([\n",
        "    layers.Dense(32, activation=\"relu\"),\n",
        "    layers.Dense(32, activation=\"relu\"),\n",
        "    layers.Dense(1, activation=\"sigmoid\")\n",
        "])\n",
        "model_21.compile(optimizer=\"rmsprop\",\n",
        "              loss=\"binary_crossentropy\",\n",
        "              metrics=[\"accuracy\"])\n",
        "history21 = model_21.fit(partial_x_train,\n",
        "                    partial_y_train,\n",
        "                    epochs=20,\n",
        "                    batch_size=512,\n",
        "                    validation_data=(x_val, y_val))\n",
        "history_dict21 = history21.history\n",
        "history_dict21.keys()"
      ],
      "metadata": {
        "id": "6-R3MseGttYZ"
      },
      "execution_count": null,
      "outputs": []
    },
    {
      "cell_type": "code",
      "source": [
        "loss_values = history_dict21[\"loss\"]\n",
        "val_loss_values = history_dict21[\"val_loss\"]\n",
        "epochs = range(1, len(loss_values) + 1)\n",
        "plt.plot(epochs, loss_values, \"r-\", label=\"Training loss\")  # Red solid line\n",
        "plt.plot(epochs, val_loss_values, \"g-\", label=\"Validation loss\") # Green solid line\n",
        "plt.title(\"Training and validation loss\")\n",
        "plt.xlabel(\"Epochs\")\n",
        "plt.ylabel(\"Loss\")\n",
        "plt.legend()\n",
        "plt.show()"
      ],
      "metadata": {
        "id": "xWkvFh4xtwt6"
      },
      "execution_count": null,
      "outputs": []
    },
    {
      "cell_type": "code",
      "source": [
        "plt.clf()\n",
        "acc = history_dict21[\"accuracy\"]\n",
        "val_acc = history_dict21[\"val_accuracy\"]\n",
        "plt.plot(epochs, acc, \"r-\", label=\"Training accuracy\")\n",
        "plt.plot(epochs, val_acc, \"g-\", label=\"Validation accuracy\")\n",
        "plt.title(\"Training and validation accuracy\")\n",
        "plt.xlabel(\"Epochs\")\n",
        "plt.ylabel(\"Accuracy\")\n",
        "plt.legend()\n",
        "plt.show()"
      ],
      "metadata": {
        "id": "P1LJy0Xgtx1B"
      },
      "execution_count": null,
      "outputs": []
    },
    {
      "cell_type": "code",
      "source": [
        "model_21.fit(x_train, y_train, epochs=10, batch_size=512)\n",
        "results_M21 = model_21.evaluate(x_test, y_test)\n",
        "results_M21"
      ],
      "metadata": {
        "id": "oqll5mAnt0vF"
      },
      "execution_count": null,
      "outputs": []
    },
    {
      "cell_type": "markdown",
      "source": [
        "*Model_64Units*"
      ],
      "metadata": {
        "id": "9oYETow-HzL2"
      }
    },
    {
      "cell_type": "code",
      "source": [
        "model_22 = keras.Sequential([\n",
        "    layers.Dense(64, activation=\"relu\"),\n",
        "    layers.Dense(64, activation=\"relu\"),\n",
        "    layers.Dense(1, activation=\"sigmoid\")\n",
        "])\n",
        "model_22.compile(optimizer=\"rmsprop\",\n",
        "              loss=\"binary_crossentropy\",\n",
        "              metrics=[\"accuracy\"])\n",
        "history22 = model_22.fit(partial_x_train,\n",
        "                    partial_y_train,\n",
        "                    epochs=20,\n",
        "                    batch_size=512,\n",
        "                    validation_data=(x_val, y_val))\n",
        "history_dict22 = history22.history\n",
        "history_dict22.keys()"
      ],
      "metadata": {
        "id": "m16kj_hJt3Iy"
      },
      "execution_count": null,
      "outputs": []
    },
    {
      "cell_type": "code",
      "source": [
        "loss_values = history_dict22[\"loss\"]\n",
        "val_loss_values = history_dict22[\"val_loss\"]\n",
        "epochs = range(1, len(loss_values) + 1)\n",
        "plt.plot(epochs, loss_values, \"r-\", label=\"Training loss\")  # Red solid line\n",
        "plt.plot(epochs, val_loss_values, \"g-\", label=\"Validation loss\") # Green solid line\n",
        "plt.title(\"Training and validation loss\")\n",
        "plt.xlabel(\"Epochs\")\n",
        "plt.ylabel(\"Loss\")\n",
        "plt.legend()\n",
        "plt.show()"
      ],
      "metadata": {
        "id": "maD_JI9zt5Zd"
      },
      "execution_count": null,
      "outputs": []
    },
    {
      "cell_type": "code",
      "source": [
        "plt.clf()\n",
        "acc = history_dict22[\"accuracy\"]\n",
        "val_acc = history_dict22[\"val_accuracy\"]\n",
        "plt.plot(epochs, acc, \"r-\", label=\"Training accuracy\")\n",
        "plt.plot(epochs, val_acc, \"g-\", label=\"Validation accuracy\")\n",
        "plt.title(\"Training and validation accuracy\")\n",
        "plt.xlabel(\"Epochs\")\n",
        "plt.ylabel(\"Accuracy\")\n",
        "plt.legend()\n",
        "plt.show()"
      ],
      "metadata": {
        "id": "tHS1HJmxt9nq"
      },
      "execution_count": null,
      "outputs": []
    },
    {
      "cell_type": "code",
      "source": [
        "model_22.fit(x_train, y_train, epochs=10, batch_size=512)\n",
        "results_M22 = model_22.evaluate(x_test, y_test)\n",
        "results_M22"
      ],
      "metadata": {
        "id": "4p_8_Qo5uBK2"
      },
      "execution_count": null,
      "outputs": []
    },
    {
      "cell_type": "markdown",
      "source": [
        "*Model_128Units*"
      ],
      "metadata": {
        "id": "H6O520FDILmt"
      }
    },
    {
      "cell_type": "code",
      "source": [
        "model_23 = keras.Sequential([\n",
        "    layers.Dense(128, activation=\"relu\"),\n",
        "    layers.Dense(128, activation=\"relu\"),\n",
        "    layers.Dense(1, activation=\"sigmoid\")\n",
        "])\n",
        "model_23.compile(optimizer=\"rmsprop\",\n",
        "              loss=\"binary_crossentropy\",\n",
        "              metrics=[\"accuracy\"])\n",
        "history23 = model_23.fit(partial_x_train,\n",
        "                    partial_y_train,\n",
        "                    epochs=20,\n",
        "                    batch_size=512,\n",
        "                    validation_data=(x_val, y_val))\n",
        "history_dict23 = history23.history\n",
        "history_dict23.keys()"
      ],
      "metadata": {
        "id": "2RQpGX6KuDZZ"
      },
      "execution_count": null,
      "outputs": []
    },
    {
      "cell_type": "code",
      "source": [
        "loss_values = history_dict23[\"loss\"]\n",
        "val_loss_values = history_dict23[\"val_loss\"]\n",
        "epochs = range(1, len(loss_values) + 1)\n",
        "plt.plot(epochs, loss_values, \"r-\", label=\"Training loss\")  # Red solid line\n",
        "plt.plot(epochs, val_loss_values, \"g-\", label=\"Validation loss\") # Green solid line\n",
        "plt.title(\"Training and validation loss\")\n",
        "plt.xlabel(\"Epochs\")\n",
        "plt.ylabel(\"Loss\")\n",
        "plt.legend()\n",
        "plt.show()"
      ],
      "metadata": {
        "id": "Ze9jbEduuFe-"
      },
      "execution_count": null,
      "outputs": []
    },
    {
      "cell_type": "code",
      "source": [
        "plt.clf()\n",
        "acc = history_dict23[\"accuracy\"]\n",
        "val_acc = history_dict23[\"val_accuracy\"]\n",
        "plt.plot(epochs, acc, \"r-\", label=\"Training accuracy\")\n",
        "plt.plot(epochs, val_acc, \"g-\", label=\"Validation accuracy\")\n",
        "plt.title(\"Training and validation accuracy\")\n",
        "plt.xlabel(\"Epochs\")\n",
        "plt.ylabel(\"Accuracy\")\n",
        "plt.legend()\n",
        "plt.show()"
      ],
      "metadata": {
        "id": "mIe88urtuGcN"
      },
      "execution_count": null,
      "outputs": []
    },
    {
      "cell_type": "code",
      "source": [
        "model_23.fit(x_train, y_train, epochs=10, batch_size=512)\n",
        "results_M23 = model_23.evaluate(x_test, y_test)\n",
        "results_M23"
      ],
      "metadata": {
        "id": "u4QXzkCyuIoF"
      },
      "execution_count": null,
      "outputs": []
    },
    {
      "cell_type": "markdown",
      "source": [
        "# ***3.Try using the mse loss function instead of binary_crossentropy.***"
      ],
      "metadata": {
        "id": "ZnOrM_XnInZ9"
      }
    },
    {
      "cell_type": "code",
      "source": [
        "model_MSE = keras.Sequential([\n",
        "    layers.Dense(16, activation=\"relu\"),\n",
        "    layers.Dense(16, activation=\"relu\"),\n",
        "    layers.Dense(1, activation=\"sigmoid\")\n",
        "])\n",
        "model_MSE.compile(optimizer=\"rmsprop\",\n",
        "              loss=\"mse\",\n",
        "              metrics=[\"accuracy\"])\n",
        "history_model_MSE = model_MSE.fit(partial_x_train,\n",
        "                    partial_y_train,\n",
        "                    epochs=20,\n",
        "                    batch_size=512,\n",
        "                    validation_data=(x_val, y_val))\n",
        "history_dict_MSE = history_model_MSE.history\n",
        "history_dict_MSE.keys()"
      ],
      "metadata": {
        "id": "9RQPKHX7uMV4"
      },
      "execution_count": null,
      "outputs": []
    },
    {
      "cell_type": "code",
      "source": [
        "loss_values = history_dict_MSE[\"loss\"]\n",
        "val_loss_values = history_dict_MSE[\"val_loss\"]\n",
        "epochs = range(1, len(loss_values) + 1)\n",
        "plt.plot(epochs, loss_values, \"r-\", label=\"Training loss\")  # Red solid line\n",
        "plt.plot(epochs, val_loss_values, \"g-\", label=\"Validation loss\") # Green solid line\n",
        "plt.title(\"Training and validation loss\")\n",
        "plt.xlabel(\"Epochs\")\n",
        "plt.ylabel(\"Loss\")\n",
        "plt.legend()\n",
        "plt.show()"
      ],
      "metadata": {
        "id": "LyG-ave7uOQ6"
      },
      "execution_count": null,
      "outputs": []
    },
    {
      "cell_type": "code",
      "source": [
        "plt.clf()\n",
        "acc = history_dict_MSE[\"accuracy\"]\n",
        "val_acc = history_dict_MSE[\"val_accuracy\"]\n",
        "plt.plot(epochs, acc, \"r-\", label=\"Training accuracy\")\n",
        "plt.plot(epochs, val_acc, \"g-\", label=\"Validation accuracy\")\n",
        "plt.title(\"Training and validation accuracy\")\n",
        "plt.xlabel(\"Epochs\")\n",
        "plt.ylabel(\"Accuracy\")\n",
        "plt.legend()\n",
        "plt.show()"
      ],
      "metadata": {
        "id": "q2jDjYFWuQrM"
      },
      "execution_count": null,
      "outputs": []
    },
    {
      "cell_type": "code",
      "source": [
        "model_MSE.fit(x_train, y_train, epochs=10, batch_size=512)\n",
        "results_MSE = model_MSE.evaluate(x_test, y_test)\n",
        "results_MSE"
      ],
      "metadata": {
        "id": "eq3JK8FPuTVw"
      },
      "execution_count": null,
      "outputs": []
    },
    {
      "cell_type": "markdown",
      "source": [
        "# ***4.Try using the tanh activation (an activation that was popular in the early days of neural networks) instead of relu.***"
      ],
      "metadata": {
        "id": "uBMdAju1Nsu3"
      }
    },
    {
      "cell_type": "markdown",
      "source": [
        "*Model_Tanh*"
      ],
      "metadata": {
        "id": "iNT8ZHbfNyTv"
      }
    },
    {
      "cell_type": "code",
      "source": [
        "model_tanh = keras.Sequential([\n",
        "    layers.Dense(16, activation=\"tanh\"),\n",
        "    layers.Dense(16, activation=\"tanh\"),\n",
        "    layers.Dense(1, activation=\"sigmoid\")\n",
        "])\n",
        "model_tanh.compile(optimizer=\"rmsprop\",\n",
        "              loss=\"binary_crossentropy\",\n",
        "              metrics=[\"accuracy\"])\n",
        "history_model_tanh = model_tanh.fit(partial_x_train,\n",
        "                    partial_y_train,\n",
        "                    epochs=20,\n",
        "                    batch_size=512,\n",
        "                    validation_data=(x_val, y_val))\n",
        "history_dict_tanh = history_model_tanh.history\n",
        "history_dict_tanh.keys()"
      ],
      "metadata": {
        "id": "sKYyzCGhuVcM"
      },
      "execution_count": null,
      "outputs": []
    },
    {
      "cell_type": "code",
      "source": [
        "loss_values = history_dict_tanh[\"loss\"]\n",
        "val_loss_values = history_dict_tanh[\"val_loss\"]\n",
        "epochs = range(1, len(loss_values) + 1)\n",
        "plt.plot(epochs, loss_values, \"r-\", label=\"Training loss\")  # Red solid line\n",
        "plt.plot(epochs, val_loss_values, \"g-\", label=\"Validation loss\") # Green solid line\n",
        "plt.title(\"Training and validation loss\")\n",
        "plt.xlabel(\"Epochs\")\n",
        "plt.ylabel(\"Loss\")\n",
        "plt.legend()\n",
        "plt.show()"
      ],
      "metadata": {
        "id": "3w4toj4tuX1H"
      },
      "execution_count": null,
      "outputs": []
    },
    {
      "cell_type": "code",
      "source": [
        "plt.clf()\n",
        "acc = history_dict_tanh[\"accuracy\"]\n",
        "val_acc = history_dict_tanh[\"val_accuracy\"]\n",
        "plt.plot(epochs, acc, \"r-\", label=\"Training accuracy\")\n",
        "plt.plot(epochs, val_acc, \"g-\", label=\"Validation accuracy\")\n",
        "plt.title(\"Training and validation accuracy\")\n",
        "plt.xlabel(\"Epochs\")\n",
        "plt.ylabel(\"Accuracy\")\n",
        "plt.legend()\n",
        "plt.show()"
      ],
      "metadata": {
        "id": "zDQGhMrJuZ7a"
      },
      "execution_count": null,
      "outputs": []
    },
    {
      "cell_type": "code",
      "source": [
        "model_tanh.fit(x_train, y_train, epochs=10, batch_size=512)\n",
        "results_tanh = model_tanh.evaluate(x_test, y_test)\n",
        "results_tanh"
      ],
      "metadata": {
        "id": "AVRXPOf4ub64"
      },
      "execution_count": null,
      "outputs": []
    },
    {
      "cell_type": "markdown",
      "source": [
        "# ***5.Use any technique we studied in class, and these include regularization,dropout, etc., to get your model to perform better on validation.***"
      ],
      "metadata": {
        "id": "nL0mXK9gOf-J"
      }
    },
    {
      "cell_type": "markdown",
      "source": [
        "*Model_L2_regularization*"
      ],
      "metadata": {
        "id": "tcv3N3j1OnkI"
      }
    },
    {
      "cell_type": "code",
      "source": [
        "from tensorflow.keras import regularizers\n",
        "model_regularisation = keras.Sequential([\n",
        "    layers.Dense(16, activation=\"relu\",kernel_regularizer=regularizers.l2(0.002)),\n",
        "    layers.Dense(16, activation=\"relu\",kernel_regularizer=regularizers.l2(0.002)),\n",
        "    layers.Dense(1, activation=\"sigmoid\")\n",
        "])\n",
        "model_regularisation.compile(optimizer=\"rmsprop\",\n",
        "              loss=\"binary_crossentropy\",\n",
        "              metrics=[\"accuracy\"])\n",
        "history_model_regularisation = model_regularisation.fit(partial_x_train,\n",
        "                    partial_y_train,\n",
        "                    epochs=20,\n",
        "                    batch_size=512,\n",
        "                    validation_data=(x_val, y_val))\n",
        "history_dict_regularisation = history_model_regularisation.history\n",
        "history_dict_regularisation.keys()"
      ],
      "metadata": {
        "id": "0xU55YhBueMo"
      },
      "execution_count": null,
      "outputs": []
    },
    {
      "cell_type": "code",
      "source": [
        "loss_values = history_dict_regularisation[\"loss\"]\n",
        "val_loss_values = history_dict_regularisation[\"val_loss\"]\n",
        "epochs = range(1, len(loss_values) + 1)\n",
        "plt.plot(epochs, loss_values, \"r-\", label=\"Training loss\")  # Red solid line\n",
        "plt.plot(epochs, val_loss_values, \"g-\", label=\"Validation loss\") # Green solid line\n",
        "plt.title(\"Training and validation loss\")\n",
        "plt.xlabel(\"Epochs\")\n",
        "plt.ylabel(\"Loss\")\n",
        "plt.legend()\n",
        "plt.show()"
      ],
      "metadata": {
        "id": "bdYbujG1ugoN"
      },
      "execution_count": null,
      "outputs": []
    },
    {
      "cell_type": "code",
      "source": [
        "plt.clf()\n",
        "acc = history_dict_regularisation[\"accuracy\"]\n",
        "val_acc = history_dict_regularisation[\"val_accuracy\"]\n",
        "plt.plot(epochs, acc, \"r-\", label=\"Training accuracy\")\n",
        "plt.plot(epochs, val_acc, \"g-\", label=\"Validation accuracy\")\n",
        "plt.title(\"Training and validation accuracy\")\n",
        "plt.xlabel(\"Epochs\")\n",
        "plt.ylabel(\"Accuracy\")\n",
        "plt.legend()\n",
        "plt.show()"
      ],
      "metadata": {
        "id": "9yqEqgs2ujs6"
      },
      "execution_count": null,
      "outputs": []
    },
    {
      "cell_type": "code",
      "source": [
        "model_regularisation.fit(x_train, y_train, epochs=10, batch_size=512)\n",
        "results_regularisation = model_regularisation.evaluate(x_test, y_test)\n",
        "results_regularisation"
      ],
      "metadata": {
        "id": "OAI_PsaOumEU"
      },
      "execution_count": null,
      "outputs": []
    },
    {
      "cell_type": "markdown",
      "source": [
        "*Model_Dropout*"
      ],
      "metadata": {
        "id": "PpWr2TUWPPui"
      }
    },
    {
      "cell_type": "code",
      "source": [
        "from tensorflow.keras import regularizers\n",
        "model_Dropout = keras.Sequential([\n",
        "    layers.Dense(16, activation=\"relu\"),\n",
        "    layers.Dropout(0.2),\n",
        "    layers.Dense(16, activation=\"relu\"),\n",
        "    layers.Dropout(0.2),\n",
        "    layers.Dense(1, activation=\"sigmoid\")\n",
        "])\n",
        "model_Dropout.compile(optimizer=\"rmsprop\",\n",
        "              loss=\"binary_crossentropy\",\n",
        "              metrics=[\"accuracy\"])\n",
        "history_model_Dropout = model_Dropout.fit(partial_x_train,\n",
        "                    partial_y_train,\n",
        "                    epochs=20,\n",
        "                    batch_size=512,\n",
        "                    validation_data=(x_val, y_val))\n",
        "history_dict_Dropout = history_model_Dropout.history\n",
        "history_dict_Dropout.keys()"
      ],
      "metadata": {
        "id": "HLct7pR9uopN"
      },
      "execution_count": null,
      "outputs": []
    },
    {
      "cell_type": "code",
      "source": [
        "loss_values = history_dict_Dropout[\"loss\"]\n",
        "val_loss_values = history_dict_Dropout[\"val_loss\"]\n",
        "epochs = range(1, len(loss_values) + 1)\n",
        "plt.plot(epochs, loss_values, \"r-\", label=\"Training loss\")  # Red solid line\n",
        "plt.plot(epochs, val_loss_values, \"g-\", label=\"Validation loss\") # Green solid line\n",
        "plt.title(\"Training and validation loss\")\n",
        "plt.xlabel(\"Epochs\")\n",
        "plt.ylabel(\"Loss\")\n",
        "plt.legend()\n",
        "plt.show()"
      ],
      "metadata": {
        "id": "wzKFWRqxuq7g"
      },
      "execution_count": null,
      "outputs": []
    },
    {
      "cell_type": "code",
      "source": [
        "plt.clf()\n",
        "acc = history_dict_Dropout[\"accuracy\"]\n",
        "val_acc = history_dict_Dropout[\"val_accuracy\"]\n",
        "plt.plot(epochs, acc, \"r-\", label=\"Training accuracy\")\n",
        "plt.plot(epochs, val_acc, \"g-\", label=\"Validation accuracy\")\n",
        "plt.title(\"Training and validation accuracy\")\n",
        "plt.xlabel(\"Epochs\")\n",
        "plt.ylabel(\"Accuracy\")\n",
        "plt.legend()\n",
        "plt.show()"
      ],
      "metadata": {
        "id": "BEMMn59nutCH"
      },
      "execution_count": null,
      "outputs": []
    },
    {
      "cell_type": "code",
      "source": [
        "model_Dropout.fit(x_train, y_train, epochs=10, batch_size=512)\n",
        "results_Dropout = model_Dropout.evaluate(x_test, y_test)\n",
        "results_Dropout"
      ],
      "metadata": {
        "id": "Sw_yeWWAuvMR"
      },
      "execution_count": null,
      "outputs": []
    },
    {
      "cell_type": "markdown",
      "source": [
        "*Training the model with Hypertunned Parameters mentioned above*"
      ],
      "metadata": {
        "id": "OryydQ6QPpvL"
      }
    },
    {
      "cell_type": "code",
      "source": [
        "from tensorflow.keras import regularizers\n",
        "model_Hyper = keras.Sequential([\n",
        "    layers.Dense(64, activation=\"relu\",kernel_regularizer=regularizers.l2(0.0002)),\n",
        "    layers.Dropout(0.2),\n",
        "    layers.Dense(64, activation=\"relu\",kernel_regularizer=regularizers.l2(0.0002)),\n",
        "    layers.Dropout(0.2),\n",
        "    layers.Dense(16, activation=\"relu\",kernel_regularizer=regularizers.l2(0.0002)),\n",
        "    layers.Dropout(0.2),\n",
        "    layers.Dense(1, activation=\"sigmoid\")\n",
        "])\n",
        "model_Hyper.compile(optimizer=\"rmsprop\",\n",
        "              loss=\"mse\",\n",
        "              metrics=[\"accuracy\"])\n",
        "history_model_Hyper = model_Hyper.fit(partial_x_train,\n",
        "                    partial_y_train,\n",
        "                    epochs=20,\n",
        "                    batch_size=512,\n",
        "                    validation_data=(x_val, y_val))\n",
        "history_dict_Hyper = history_model_Hyper.history\n",
        "history_dict_Hyper.keys()"
      ],
      "metadata": {
        "id": "sMfgoWxSuxO0"
      },
      "execution_count": null,
      "outputs": []
    },
    {
      "cell_type": "code",
      "source": [
        "loss_values = history_dict_Hyper[\"loss\"]\n",
        "val_loss_values = history_dict_Hyper[\"val_loss\"]\n",
        "epochs = range(1, len(loss_values) + 1)\n",
        "plt.plot(epochs, loss_values, \"r-\", label=\"Training loss\")  # Red solid line\n",
        "plt.plot(epochs, val_loss_values, \"g-\", label=\"Validation loss\") # Green solid line\n",
        "plt.title(\"Training and validation loss\")\n",
        "plt.xlabel(\"Epochs\")\n",
        "plt.ylabel(\"Loss\")\n",
        "plt.legend()\n",
        "plt.show()"
      ],
      "metadata": {
        "id": "zxwG5562uzhQ"
      },
      "execution_count": null,
      "outputs": []
    },
    {
      "cell_type": "code",
      "source": [
        "plt.clf()\n",
        "acc = history_dict_Hyper[\"accuracy\"]\n",
        "val_acc = history_dict_Hyper[\"val_accuracy\"]\n",
        "plt.plot(epochs, acc, \"r-\", label=\"Training accuracy\")\n",
        "plt.plot(epochs, val_acc, \"g-\", label=\"Validation accuracy\")\n",
        "plt.title(\"Training and validation accuracy\")\n",
        "plt.xlabel(\"Epochs\")\n",
        "plt.ylabel(\"Accuracy\")\n",
        "plt.legend()\n",
        "plt.show()"
      ],
      "metadata": {
        "id": "KRQFxnsPu2Hf"
      },
      "execution_count": null,
      "outputs": []
    },
    {
      "cell_type": "code",
      "source": [
        "model_Hyper.fit(x_train, y_train, epochs=10, batch_size=512)\n",
        "results_Hyper = model_Hyper.evaluate(x_test, y_test)\n",
        "results_Hyper"
      ],
      "metadata": {
        "id": "ZcFr_1R7u4X-"
      },
      "execution_count": null,
      "outputs": []
    },
    {
      "cell_type": "markdown",
      "source": [
        "# ***Summary***\n",
        "\n"
      ],
      "metadata": {
        "id": "u0gouj_nQHMN"
      }
    },
    {
      "cell_type": "code",
      "source": [
        "All_Loss= np.array([results_M11[0],results_M12[0],results_M21[0],results_M22[0],results_M23[0],results_MSE[0],results_tanh[0],results_regularisation[0],results_Dropout[0],results_Hyper[0]])*100\n",
        "All_Loss\n",
        "All_Accuracy= np.array([results_M11[1],results_M12[1],results_M21[1],results_M22[1],results_M23[1],results_MSE[1],results_tanh[1],results_regularisation[1],results_Dropout[1],results_Hyper[1]])*100\n",
        "All_Accuracy\n",
        "Labels=['Model_3Layer','Model_1Layer','Model_32units','Model_64units','Model_128units','Model_MSE','model_tanh','model_regularisation','Model_Dropout','Model_Hypertune']\n",
        "plt.clf()"
      ],
      "metadata": {
        "id": "A-4bIXUau65r"
      },
      "execution_count": null,
      "outputs": []
    },
    {
      "cell_type": "markdown",
      "source": [
        "***Comparing all models using graph***"
      ],
      "metadata": {
        "id": "3FmxSLY0QVzs"
      }
    },
    {
      "cell_type": "code",
      "source": [
        "fig, ax = plt.subplots()\n",
        "ax.scatter(All_Loss,All_Accuracy)\n",
        "for i, txt in enumerate(Labels):\n",
        "    ax.annotate(txt, (All_Loss[i],All_Accuracy[i] ))\n",
        "plt.title(\"Summary for Accuracy and Loss\")\n",
        "plt.ylabel(\"Accuracy\")\n",
        "plt.xlabel(\"Loss\")\n",
        "plt.show()"
      ],
      "metadata": {
        "id": "8qZAS_Dau9BV"
      },
      "execution_count": null,
      "outputs": []
    },
    {
      "cell_type": "markdown",
      "source": [
        "##**Summary:**"
      ],
      "metadata": {
        "id": "xutIkCRhQcwB"
      }
    },
    {
      "cell_type": "markdown",
      "source": [
        "Below are the Model description for comparision:\n",
        "*  **Model_11**(Changed to 3 layers)\n",
        "*  **Model_12**(Changed to 1 layer)\n",
        "*  **Model_21**(Chnaged to 32 units of hidden layers)\n",
        "*  **Model_22**(Chnaged to 64 units of hidden layers)\n",
        "*  **Model_23**(Chnaged to 128 units of hidden layers)\n",
        "*  **Model_MSE**(Used MSE loss function)\n",
        "*  **Model_tanh**(Used tanh activation function)\n",
        "*  **Model_Regularisation**(L2 regularization with a coefficient of 0.0001 for all your hidden layers)\n",
        "*  **Model_Dropout**(dropout with a rate of 0.5 after each of the hidden layers)\n",
        "*  **Model_Hyper**(used all the chnages in one)\n",
        "\n",
        "**Model Compilation:** The binary cross-entropy loss function is well-suited for evaluating the performance of classification models, where the output represents probabilities between 0 and 1. In contrast, mean squared error (MSE) is commonly used in regression tasks, quantifying how closely a regression line aligns with a set of data points. Squaring the differences between data points and the regression line is essential to ensure that negative discrepancies do not cancel out positive ones.\n",
        "\n",
        "**From the graphical analysis**, it becomes evident that the highest accuracy and the lowest loss were achieved using the \"Model_Hyper.\" This model employs three deep layers (32, 32, 16) with a dropout rate of 0.5 for each layer. In terms of comparing the MSE loss to other models (excluding the final hypertuned model), it's notable that MSE resulted in minimal loss.\n",
        "\n",
        "**Units:** As we increase the number of units from 16 to 32, 64, and 128, the accuracy experiences only marginal improvements, while the loss function steadily decreases.\n",
        "\n",
        "**Hidden Layers:** Interestingly, increasing the number of hidden layers from 1 to 3 had no impact on the loss function, accuracy, or performance.\n",
        "\n",
        "**Loss Function:** When we employ \"mse\" as the loss function for the IMDB dataset, the resultant loss value is significantly lower compared to binary cross-entropy, signifying improved convergence.\n",
        "\n",
        "**Activation Function:** The model's use of the tanh activation function results in lower accuracy, primarily due to issues related to the vanishing gradient problem.\n",
        "\n",
        "**Regularization:** Contrary to the expected outcome, regularization resulted in a higher loss and decreased accuracy compared to the original model. This observation is somewhat counterintuitive since regularization is typically employed to mitigate overfitting and improve model generalization.\n",
        "\n",
        "**Dropout:** Dropout regularization also contributes to a diminished loss function but doesn't seem to impact accuracy significantly."
      ],
      "metadata": {
        "id": "VXXRaaFfQp30"
      }
    }
  ]
}